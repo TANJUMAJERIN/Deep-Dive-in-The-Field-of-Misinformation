{
  "nbformat": 4,
  "nbformat_minor": 0,
  "metadata": {
    "colab": {
      "provenance": [],
      "authorship_tag": "ABX9TyNf0PrxbSegjCWyWndCrICV",
      "include_colab_link": true
    },
    "kernelspec": {
      "name": "python3",
      "display_name": "Python 3"
    },
    "language_info": {
      "name": "python"
    }
  },
  "cells": [
    {
      "cell_type": "markdown",
      "metadata": {
        "id": "view-in-github",
        "colab_type": "text"
      },
      "source": [
        "<a href=\"https://colab.research.google.com/github/adity1234567/Deep-Dive-in-The-Field-of-Misinformation/blob/main/Leveraging_Sentiment_for_Offensive_Text_Classification.ipynb\" target=\"_parent\"><img src=\"https://colab.research.google.com/assets/colab-badge.svg\" alt=\"Open In Colab\"/></a>"
      ]
    },
    {
      "cell_type": "markdown",
      "source": [
        "https://github.com/KhondokerIslam/senti-affects-olid/tree/main\n",
        "\n",
        "\n",
        "\n",
        "The data: https://www.kaggle.com/c/jigsaw-toxic-comment-classification-challenge\n",
        "\n"
      ],
      "metadata": {
        "id": "zgLud-vAlEuT"
      }
    },
    {
      "cell_type": "code",
      "execution_count": null,
      "metadata": {
        "id": "e5lPeDn2k8yv"
      },
      "outputs": [],
      "source": []
    }
  ]
}